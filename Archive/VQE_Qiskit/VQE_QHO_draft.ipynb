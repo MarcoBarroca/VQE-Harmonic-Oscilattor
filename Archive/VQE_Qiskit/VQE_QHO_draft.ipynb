{
 "cells": [
  {
   "cell_type": "code",
   "execution_count": 70,
   "metadata": {},
   "outputs": [],
   "source": [
    "from qiskit.algorithms import VQE, NumPyMinimumEigensolver\n",
    "import matplotlib.pyplot as plt\n",
    "%matplotlib inline\n",
    "%config InlineBackend.figure_format = 'svg' # Makes the images look nice\n",
    "import numpy as np\n",
    "from qiskit.quantum_info import Operator, Pauli\n",
    "from qiskit.circuit.library import QFT\n",
    "from qiskit.algorithms.optimizers import COBYLA, SPSA, SLSQP\n",
    "from qiskit.opflow import Z2Symmetries, X, Y, Z, I\n",
    "from qiskit.opflow import PauliSumOp\n",
    "from qiskit.quantum_info import SparsePauliOp\n",
    "from qiskit import IBMQ, BasicAer, Aer\n",
    "from qiskit import IBMQ\n",
    "from qiskit.utils import QuantumInstance, algorithm_globals\n",
    "from qiskit.utils.mitigation import CompleteMeasFitter\n",
    "from qiskit.providers.aer.noise import NoiseModel\n",
    "from qiskit.circuit.library import RealAmplitudes, TwoLocal\n",
    "#from qiskit.aqua.components.initial_states import VarFormBased, Custom\n",
    "# Import useful packages\n",
    "\n",
    "\n",
    "from qiskit.tools.visualization import circuit_drawer\n",
    "import matplotlib\n",
    "import matplotlib.pyplot as plt\n",
    "import matplotlib\n",
    "import pylab\n",
    "import numpy as np\n",
    "import os\n",
    "from datetime import datetime\n",
    "#IBMQ.load_account()\n",
    "provider = IBMQ.get_provider(group='open')\n",
    "backend_stv = Aer.get_backend('statevector_simulator')\n",
    "backend_qsm = Aer.get_backend('qasm_simulator')\n",
    "backend_manil = provider.get_backend('ibmq_manila')\n",
    "#backend_qsm_ibm=provider.get_backend('ibmq_qasm_simulator')\n",
    "sh=1024\n",
    "npme = NumPyMinimumEigensolver()\n"
   ]
  },
  {
   "cell_type": "code",
   "execution_count": 22,
   "metadata": {},
   "outputs": [
    {
     "data": {
      "text/plain": [
       "[<IBMQBackend('ibmq_armonk') from IBMQ(hub='ibm-q', group='open', project='main')>,\n",
       " <IBMQBackend('ibmq_santiago') from IBMQ(hub='ibm-q', group='open', project='main')>,\n",
       " <IBMQBackend('ibmq_bogota') from IBMQ(hub='ibm-q', group='open', project='main')>,\n",
       " <IBMQBackend('ibmq_lima') from IBMQ(hub='ibm-q', group='open', project='main')>,\n",
       " <IBMQBackend('ibmq_belem') from IBMQ(hub='ibm-q', group='open', project='main')>,\n",
       " <IBMQBackend('ibmq_quito') from IBMQ(hub='ibm-q', group='open', project='main')>,\n",
       " <IBMQBackend('ibmq_manila') from IBMQ(hub='ibm-q', group='open', project='main')>]"
      ]
     },
     "execution_count": 22,
     "metadata": {},
     "output_type": "execute_result"
    }
   ],
   "source": [
    "provider.backends(simulator=False, operational=True)"
   ]
  },
  {
   "cell_type": "code",
   "execution_count": 42,
   "metadata": {},
   "outputs": [],
   "source": [
    "ham_name = 'QHO' # Input the name of the Hamiltonian you used when exporting\n",
    "op_file = 'paulis_'+ham_name+'.txt'\n",
    "file_id = ham_name\n"
   ]
  },
  {
   "cell_type": "code",
   "execution_count": 69,
   "metadata": {},
   "outputs": [
    {
     "data": {
      "text/plain": [
       "PauliSumOp(SparsePauliOp(['IIIII', 'IIIIZ', 'IIIZI', 'IIIZZ', 'IIZII', 'IIZIZ', 'IIZZI', 'IIZZZ', 'IZIII', 'IZIIZ', 'IZIZI', 'IZIZZ', 'IZZII', 'IZZIZ', 'IZZZI', 'IZZZZ', 'ZIIII', 'ZIIIZ', 'ZIIZI', 'ZIIZZ', 'ZIZII', 'ZIZIZ', 'ZIZZI', 'ZIZZZ', 'ZZIII', 'ZZIIZ', 'ZZIZI', 'ZZIZZ', 'ZZZII', 'ZZZIZ', 'ZZZZI', 'ZZZZZ'],\n",
       "              coeffs=[15.03125+0.j, -0.46875+0.j, -0.96875+0.j,  0.03125+0.j, -1.96875+0.j,\n",
       "  0.03125+0.j,  0.03125+0.j,  0.03125+0.j, -3.96875+0.j,  0.03125+0.j,\n",
       "  0.03125+0.j,  0.03125+0.j,  0.03125+0.j,  0.03125+0.j,  0.03125+0.j,\n",
       "  0.03125+0.j, -7.96875+0.j,  0.03125+0.j,  0.03125+0.j,  0.03125+0.j,\n",
       "  0.03125+0.j,  0.03125+0.j,  0.03125+0.j,  0.03125+0.j,  0.03125+0.j,\n",
       "  0.03125+0.j,  0.03125+0.j,  0.03125+0.j,  0.03125+0.j,  0.03125+0.j,\n",
       "  0.03125+0.j,  0.03125+0.j]), coeff=1.0)"
      ]
     },
     "execution_count": 69,
     "metadata": {},
     "output_type": "execute_result"
    }
   ],
   "source": [
    "q=5 #qubits\n",
    "n=2**q #dimension\n",
    "coup=0.1 #coupling\n",
    "alpha=coup/(np.math.factorial(3)) #cubic coupling\n",
    "\n",
    "#Ladder operator and identity\n",
    "a = np.zeros(shape=(n,n)).astype(complex)\n",
    "idt= np.zeros(shape=(n,n)).astype(complex)\n",
    "\n",
    "for i in range(n):\n",
    "    for j in range(n):\n",
    "        if j==i+1:\n",
    "            a[i][j]=np.sqrt(i)\n",
    "for i in range(n):\n",
    "    for j in range(n):\n",
    "        if j==i:\n",
    "            idt[i][j]=1\n",
    "a_dag=a.conj().T\n",
    "\n",
    "XE=(np.sqrt(1/2))*(a_dag+a) #Position Operator\n",
    "PE=complex(0,np.sqrt(1/2))*(a.conj().T-a) #Momentum Operator\n",
    "HOE=np.matmul(a_dag,a) +(1/2)*idt #Harmonic Oscillator\n",
    "AHOE=np.matmul(a_dag,a) +(1/2)*idt-alpha*np.linalg.matrix_power(XE,3) #Anaharmonic Oscillator\n",
    "\n",
    "HOE_OP=Operator(HOE) #Qiskit operators\n",
    "AHOE_OP=Operator(AHOE)\n",
    "\n",
    "P_HOE_OP=PauliSumOp(SparsePauliOp.from_operator(HOE_OP),coeff=1.0) #PauliSum OPs\n",
    "P_AHOE_OP=PauliSumOp(SparsePauliOp.from_operator(AHOE_OP),coeff=1.0)"
   ]
  },
  {
   "cell_type": "code",
   "execution_count": 100,
   "metadata": {},
   "outputs": [],
   "source": [
    "s = open('paulis_QHO.txt',\"r\")\n",
    "lines = s.readlines()\n",
    "\n",
    "Op_prods = [line.split(' ')[0] for line in lines]\n",
    "coeffs=np.array([line.split(' ')[1] for line in lines]).astype(complex)\n",
    "s.close()\n",
    "coeffs\n",
    "OPS=PauliSumOp(SparsePauliOp(Op_prods,coeffs=coeffs),coeff=1.0)\n",
    "q=OPS.num_qubits"
   ]
  },
  {
   "cell_type": "code",
   "execution_count": 101,
   "metadata": {},
   "outputs": [],
   "source": [
    "#Variatonal Forms\n",
    "def Var_form_set(q,d,ent,cont):\n",
    "    if cont==1:\n",
    "        vf_TL = TwoLocal(\n",
    "            num_qubits=q,\n",
    "            reps=d,\n",
    "            rotation_blocks=['ry','rz'],\n",
    "            entanglement_blocks='cx',\n",
    "            entanglement=ent,\n",
    "            )\n",
    "        return vf_TL\n",
    "    vf_RA=RealAmplitudes(\n",
    "        num_qubits=q,\n",
    "        reps=d,\n",
    "        entanglement=ent,\n",
    "        )\n",
    "    return vf_RA"
   ]
  },
  {
   "cell_type": "code",
   "execution_count": 135,
   "metadata": {},
   "outputs": [
    {
     "name": "stdout",
     "output_type": "stream",
     "text": [
      "     »\n",
      "q_0: »\n",
      "     »\n",
      "q_1: »\n",
      "     »\n",
      "q_2: »\n",
      "     »\n",
      "q_3: »\n",
      "     »\n",
      "q_4: »\n",
      "     »\n",
      "q_5: »\n",
      "     »\n",
      "«     ┌────────────────────────────────────────────────────────────────────────────────┐\n",
      "«q_0: ┤0                                                                               ├\n",
      "«     │                                                                                │\n",
      "«q_1: ┤1                                                                               ├\n",
      "«     │                                                                                │\n",
      "«q_2: ┤2                                                                               ├\n",
      "«     │  RealAmplitudes(θ[0],θ[1],θ[2],θ[3],θ[4],θ[5],θ[6],θ[7],θ[8],θ[9],θ[10],θ[11]) │\n",
      "«q_3: ┤3                                                                               ├\n",
      "«     │                                                                                │\n",
      "«q_4: ┤4                                                                               ├\n",
      "«     │                                                                                │\n",
      "«q_5: ┤5                                                                               ├\n",
      "«     └────────────────────────────────────────────────────────────────────────────────┘\n"
     ]
    }
   ],
   "source": [
    "vf=Var_form_set(q,1,'linear',0)\n",
    "print(vf)"
   ]
  },
  {
   "cell_type": "code",
   "execution_count": 131,
   "metadata": {},
   "outputs": [
    {
     "name": "stdout",
     "output_type": "stream",
     "text": [
      "VQE Results: [0.5064649098355564, 1.082437544444253, 1.261253084896798, 0.6462190794950673, 0.5527441247579666, 0.6288816491920663, 0.518185657486798, 0.6426676288247588, 2.5812104668574216, 1.314972001918516]\n",
      "Exact Result: 0.50000\n",
      "\n",
      "\n",
      "Runtime: 0:02:32.407650\n",
      "Runtime for loop 1 : 0:00:17.104972\n",
      "Runtime for loop 2 : 0:00:16.524476\n",
      "Runtime for loop 3 : 0:00:15.472352\n",
      "Runtime for loop 4 : 0:00:15.526543\n",
      "Runtime for loop 5 : 0:00:15.058126\n",
      "Runtime for loop 6 : 0:00:13.070334\n",
      "Runtime for loop 7 : 0:00:14.425538\n",
      "Runtime for loop 8 : 0:00:13.982201\n",
      "Runtime for loop 9 : 0:00:15.497546\n",
      "Runtime for loop 10 : 0:00:15.738733\n"
     ]
    }
   ],
   "source": [
    "#Statevector simulator 1 reps; 2000 trials.\n",
    "begin = datetime.now()\n",
    "\n",
    "seed = 50\n",
    "algorithm_globals.random_seed = seed\n",
    "qi = QuantumInstance(backend_stv, seed_transpiler=seed, seed_simulator=seed)\n",
    "\n",
    "vqe_energies=[]\n",
    "Runtimes=[]\n",
    "for i in range(10):\n",
    "    beginl = datetime.now()\n",
    "    vf=Var_form_set(q,1,'linear',0)\n",
    "    optimizer = SPSA(maxiter=2000)\n",
    "    vqe = VQE(vf, optimizer,quantum_instance=qi)\n",
    "    vqe_result=vqe.compute_minimum_eigenvalue(operator=OPS)\n",
    "    vqe_eigenv=vqe_result.eigenvalue.real\n",
    "    vqe_energies.append(vqe_eigenv)\n",
    "    endl = datetime.now()\n",
    "    Runtimes.append(endl-beginl)\n",
    "print(\"VQE Results:\", vqe_energies)\n",
    "exact_solution = npme.compute_minimum_eigenvalue(operator=OPS)\n",
    "print(f'Exact Result: {exact_solution.eigenvalue.real:.5f}')\n",
    "\n",
    "end = datetime.now()\n",
    "print(\"\\n\")\n",
    "print (\"Runtime:\",end-begin)\n",
    "for i in range(10):\n",
    "    print (\"Runtime for loop\",i+1,\":\",Runtimes[i])"
   ]
  },
  {
   "cell_type": "code",
   "execution_count": 132,
   "metadata": {},
   "outputs": [
    {
     "name": "stdout",
     "output_type": "stream",
     "text": [
      "VQE Results: [0.5097241164353732, 0.5035449010384992, 0.5966606627545504, 0.5714258868167638, 1.213639322935794, 0.5217622265293239, 0.6061870769922939, 0.5176074063282737, 0.5855275676406357, 0.9331156602543957]\n",
      "Exact Result: 0.50000\n",
      "\n",
      "\n",
      "Runtime: 0:03:24.708961\n",
      "Runtime for loop 1 : 0:00:20.373465\n",
      "Runtime for loop 2 : 0:00:20.622127\n",
      "Runtime for loop 3 : 0:00:20.677857\n",
      "Runtime for loop 4 : 0:00:20.681517\n",
      "Runtime for loop 5 : 0:00:19.521968\n",
      "Runtime for loop 6 : 0:00:20.894771\n",
      "Runtime for loop 7 : 0:00:20.076867\n",
      "Runtime for loop 8 : 0:00:20.125050\n",
      "Runtime for loop 9 : 0:00:20.690805\n",
      "Runtime for loop 10 : 0:00:21.038387\n"
     ]
    }
   ],
   "source": [
    "#Statevector simulator 3 reps; 2000 trials.\n",
    "begin = datetime.now()\n",
    "\n",
    "seed = 50\n",
    "algorithm_globals.random_seed = seed\n",
    "qi = QuantumInstance(backend_stv, seed_transpiler=seed, seed_simulator=seed)\n",
    "\n",
    "vqe_energies=[]\n",
    "Runtimes=[]\n",
    "for i in range(10):\n",
    "    beginl = datetime.now()\n",
    "    vf=Var_form_set(q,3,'linear',0)\n",
    "    optimizer = SPSA(maxiter=2000)\n",
    "    vqe = VQE(vf, optimizer,quantum_instance=qi)\n",
    "    vqe_result=vqe.compute_minimum_eigenvalue(operator=OPS)\n",
    "    vqe_eigenv=vqe_result.eigenvalue.real\n",
    "    vqe_energies.append(vqe_eigenv)\n",
    "    endl = datetime.now()\n",
    "    Runtimes.append(endl-beginl)\n",
    "print(\"VQE Results:\", vqe_energies)\n",
    "exact_solution = npme.compute_minimum_eigenvalue(operator=OPS)\n",
    "print(f'Exact Result: {exact_solution.eigenvalue.real:.5f}')\n",
    "\n",
    "end = datetime.now()\n",
    "print(\"\\n\")\n",
    "print (\"Runtime:\",end-begin)\n",
    "for i in range(10):\n",
    "    print (\"Runtime for loop\",i+1,\":\",Runtimes[i])"
   ]
  },
  {
   "cell_type": "code",
   "execution_count": 154,
   "metadata": {},
   "outputs": [
    {
     "name": "stdout",
     "output_type": "stream",
     "text": [
      "VQE Results: [1.19705301124189, 0.50800509209793, 0.57721428892671, 0.5260098443837, 0.52000086971835, 1.32995574841291, 1.50148430550188, 0.52171893134381, 0.545481040121, 0.60024485668245]\n",
      "Exact Result: [0.5]\n",
      "\n",
      "\n",
      "Runtime: 0:12:20.928008\n",
      "Runtime for loop 1 : 0:01:12.660101\n",
      "Runtime for loop 2 : 0:01:12.991545\n",
      "Runtime for loop 3 : 0:01:14.790987\n",
      "Runtime for loop 4 : 0:01:19.284885\n",
      "Runtime for loop 5 : 0:01:11.487468\n",
      "Runtime for loop 6 : 0:01:11.835135\n",
      "Runtime for loop 7 : 0:01:12.074968\n",
      "Runtime for loop 8 : 0:01:13.925298\n",
      "Runtime for loop 9 : 0:01:12.860576\n",
      "Runtime for loop 10 : 0:01:18.986818\n"
     ]
    }
   ],
   "source": [
    "#Statevector simulator 3 reps; 2000 trials.\n",
    "\n",
    "begin = datetime.now()\n",
    "\n",
    "vqe_energies=[]\n",
    "Runtimes=[]\n",
    "for i in range(10):\n",
    "    beginl = datetime.now()\n",
    "    vf=Var_form_set(q,3,'linear',0)\n",
    "    optimizer = SPSA(max_trials=2000)\n",
    "    vqe = VQE(PM1,vf, optimizer)\n",
    "    vqe_result = vqe.run(backend_stv)\n",
    "    vqe_eigenv=np.real(vqe_result['eigenvalue'])\n",
    "    vqe_energies.append(vqe_eigenv)\n",
    "    endl = datetime.now()\n",
    "    Runtimes.append(endl-beginl)\n",
    "print(\"VQE Results:\", vqe_energies)\n",
    "exact_solution = NumPyEigensolver(PM1,k=1).run()\n",
    "print(\"Exact Result:\", np.real(exact_solution.eigenvalues))\n",
    "\n",
    "end = datetime.now()\n",
    "print(\"\\n\")\n",
    "print (\"Runtime:\",end-begin)\n",
    "for i in range(10):\n",
    "    print (\"Runtime for loop\",i+1,\":\",Runtimes[i])"
   ]
  },
  {
   "cell_type": "code",
   "execution_count": 150,
   "metadata": {},
   "outputs": [
    {
     "data": {
      "text/plain": [
       "{'optimal_parameters': {Parameter(θ[0]): -0.01967359730037374, Parameter(θ[10]): 0.49739928691891894, Parameter(θ[11]): 0.03718453628868251, Parameter(θ[12]): 1.9194142539339192, Parameter(θ[13]): -4.7923757293002245, Parameter(θ[14]): 1.563669360212396, Parameter(θ[15]): -1.571356016339995, Parameter(θ[16]): -4.529921844233582, Parameter(θ[17]): 3.322750756138597, Parameter(θ[18]): -0.4001422960485747, Parameter(θ[19]): -2.1525212448703748, Parameter(θ[1]): -3.138933720278665, Parameter(θ[20]): -1.5810081430069098, Parameter(θ[21]): -0.5074617579180594, Parameter(θ[22]): 3.353907824622781, Parameter(θ[23]): 1.7540549828085095, Parameter(θ[2]): 3.023728996360755, Parameter(θ[3]): 1.2061862887666404, Parameter(θ[4]): -4.710675000377457, Parameter(θ[5]): 1.5707425458971673, Parameter(θ[6]): -1.9286480055665611, Parameter(θ[7]): -1.931683298986307, Parameter(θ[8]): 0.4488113432834966, Parameter(θ[9]): -4.338857537053138}, 'optimal_point': array([-0.0196736 ,  0.49739929,  0.03718454,  1.91941425, -4.79237573,\n",
       "        1.56366936, -1.57135602, -4.52992184,  3.32275076, -0.4001423 ,\n",
       "       -2.15252124, -3.13893372, -1.58100814, -0.50746176,  3.35390782,\n",
       "        1.75405498,  3.023729  ,  1.20618629, -4.710675  ,  1.57074255,\n",
       "       -1.92864801, -1.9316833 ,  0.44881134, -4.33885754]), 'optimal_value': 0.50581826276544, 'optimizer_time': 73.43321871757507, 'eigenvalue': (0.50581826276544+0j), 'eigenstate': array([ 9.99186074e-01+0.j, -3.16031761e-02+0.j, -1.02163977e-02+0.j,\n",
       "       -4.77613137e-03+0.j,  8.17616391e-04+0.j, -1.49872525e-04+0.j,\n",
       "        2.04235958e-02+0.j, -2.28599311e-03+0.j, -3.33750998e-04+0.j,\n",
       "       -7.22072799e-04+0.j, -4.51271655e-04+0.j, -1.27134184e-03+0.j,\n",
       "       -7.68692130e-04+0.j, -1.16209144e-04+0.j, -7.98674489e-05+0.j,\n",
       "       -1.61782279e-04+0.j,  1.03418264e-03+0.j,  1.86257892e-03+0.j,\n",
       "        1.11933809e-03+0.j,  3.29232824e-03+0.j, -2.64752628e-04+0.j,\n",
       "        3.75456707e-04+0.j,  2.05474454e-04+0.j,  4.38611538e-04+0.j,\n",
       "        9.66327997e-04+0.j,  3.37484777e-03+0.j,  2.02590744e-03+0.j,\n",
       "        5.91994802e-03+0.j, -2.13709120e-04+0.j,  6.61342034e-04+0.j,\n",
       "        3.38565607e-04+0.j,  7.79664598e-04+0.j,  5.87314900e-05+0.j,\n",
       "       -7.49885530e-05+0.j, -4.42281756e-05+0.j, -1.27505428e-04+0.j,\n",
       "        8.87319124e-06+0.j, -1.44546135e-05+0.j, -5.91494329e-06+0.j,\n",
       "       -1.71365702e-05+0.j,  1.59881102e-03+0.j, -1.84076804e-04+0.j,\n",
       "       -9.62600579e-05+0.j, -2.39903286e-04+0.j,  4.83285239e-06+0.j,\n",
       "       -2.60170657e-05+0.j,  2.01542455e-05+0.j, -3.42772162e-05+0.j,\n",
       "       -5.27199677e-04+0.j,  3.61964052e-04+0.j,  2.11250245e-04+0.j,\n",
       "        6.03226842e-04+0.j, -4.83944502e-05+0.j,  6.84871104e-05+0.j,\n",
       "        2.27856025e-05+0.j,  8.15272039e-05+0.j,  2.07971325e-04+0.j,\n",
       "        6.28002066e-04+0.j,  3.77238239e-04+0.j,  1.10301551e-03+0.j,\n",
       "       -3.94663868e-05+0.j,  1.23227392e-04+0.j,  6.36751127e-05+0.j,\n",
       "        1.45228345e-04+0.j]), 'cost_function_evals': 4051}"
      ]
     },
     "execution_count": 150,
     "metadata": {},
     "output_type": "execute_result"
    }
   ],
   "source": [
    "vqe_result"
   ]
  },
  {
   "cell_type": "code",
   "execution_count": 93,
   "metadata": {},
   "outputs": [
    {
     "name": "stdout",
     "output_type": "stream",
     "text": [
      "VQE Results: [3.1669960934701, 2.48162518624638, 4.33238510305513, 4.6849388179576, 3.57811831303008, 3.26018656899288, 2.52444441253122, 2.613130568577, 2.50602705311393, 2.67705174978006]\n",
      "Exact Result: [0.5]\n"
     ]
    }
   ],
   "source": [
    "#Simulated noise 1 rep; 1000 trial\n",
    "C_map=backend_melb.configuration().coupling_map\n",
    "noise_model=NoiseModel.from_backend(backend_melb.properties())\n",
    "melb_qsm_instance=QuantumInstance(backend_qsm,shots=sh,\n",
    "                                  noise_model=noise_model,\n",
    "                                  coupling_map=C_map,\n",
    "                                  measurement_error_mitigation_cls=CompleteMeasFitter,\n",
    "                                  cals_matrix_refresh_period=30\n",
    "                                  )\n",
    "\n",
    "vqe_energies=[]\n",
    "vqe = VQE(PM1,vf , optimizer)\n",
    "for i in range(10):\n",
    "    optimizer = SPSA(max_trials=1000)\n",
    "    vf=Var_form_set(q,1,'linear',0)\n",
    "    vqe = VQE(PM1,vf , optimizer)\n",
    "    vqe_result = np.real(vqe.run(melb_qsm_instance)['eigenvalue'])\n",
    "    vqe_energies.append(vqe_result)\n",
    "print(\"VQE Results:\", vqe_energies)\n",
    "exact_solution = NumPyEigensolver(PM1,k=1).run()\n",
    "print(\"Exact Result:\", np.real(exact_solution.eigenvalues))"
   ]
  },
  {
   "cell_type": "code",
   "execution_count": 104,
   "metadata": {},
   "outputs": [
    {
     "name": "stdout",
     "output_type": "stream",
     "text": [
      "Start date and time : \n",
      "2020-05-22 13:29:58\n",
      "VQE Results: 26.30078125\n",
      "Exact Result: [0.5]\n",
      "End date and time : \n",
      "2020-05-22 13:44:25\n",
      "Runtime: 0:14:26.088888\n"
     ]
    }
   ],
   "source": [
    "#Real device 1rep; 1 trial\n",
    "melb_instance=QuantumInstance(backend_melb,shots=sh,skip_qobj_validation=False, optimization_level=3)\n",
    "\n",
    "begin = datetime.now()\n",
    "print (\"Start date and time : \")\n",
    "print (begin.strftime(\"%Y-%m-%d %H:%M:%S\"))\n",
    "\n",
    "optimizer = SPSA(max_trials=1)\n",
    "vf=Var_form_set(q,1,'linear',0)\n",
    "vqe = VQE(PM1,vf, optimizer)\n",
    "\n",
    "vqe_result = np.real(vqe.run(melb_instance)['eigenvalue'])\n",
    "print(\"VQE Results:\", vqe_result)\n",
    "exact_solution = NumPyEigensolver(PM1,k=1).run()\n",
    "print(\"Exact Result:\", np.real(exact_solution.eigenvalues))\n",
    "\n",
    "end = datetime.now()\n",
    "print (\"End date and time : \")\n",
    "print (end.strftime(\"%Y-%m-%d %H:%M:%S\"))\n",
    "print (\"Runtime:\",end-begin)"
   ]
  },
  {
   "cell_type": "code",
   "execution_count": 100,
   "metadata": {},
   "outputs": [
    {
     "name": "stdout",
     "output_type": "stream",
     "text": [
      "Current date and time : \n",
      "2020-05-22 09:00:36\n"
     ]
    },
    {
     "ename": "KeyboardInterrupt",
     "evalue": "",
     "output_type": "error",
     "traceback": [
      "\u001b[0;31m---------------------------------------------------------------------------\u001b[0m",
      "\u001b[0;31mKeyboardInterrupt\u001b[0m                         Traceback (most recent call last)",
      "\u001b[0;32m<ipython-input-100-8d90ff406852>\u001b[0m in \u001b[0;36m<module>\u001b[0;34m\u001b[0m\n\u001b[1;32m     18\u001b[0m \u001b[0mvf\u001b[0m\u001b[0;34m=\u001b[0m\u001b[0mVar_form_set\u001b[0m\u001b[0;34m(\u001b[0m\u001b[0mq\u001b[0m\u001b[0;34m,\u001b[0m\u001b[0;36m1\u001b[0m\u001b[0;34m,\u001b[0m\u001b[0;34m'linear'\u001b[0m\u001b[0;34m,\u001b[0m\u001b[0;36m0\u001b[0m\u001b[0;34m)\u001b[0m\u001b[0;34m\u001b[0m\u001b[0;34m\u001b[0m\u001b[0m\n\u001b[1;32m     19\u001b[0m \u001b[0mvqe\u001b[0m \u001b[0;34m=\u001b[0m \u001b[0mVQE\u001b[0m\u001b[0;34m(\u001b[0m\u001b[0mPM1\u001b[0m\u001b[0;34m,\u001b[0m\u001b[0mvf\u001b[0m \u001b[0;34m,\u001b[0m \u001b[0moptimizer\u001b[0m\u001b[0;34m)\u001b[0m\u001b[0;34m\u001b[0m\u001b[0;34m\u001b[0m\u001b[0m\n\u001b[0;32m---> 20\u001b[0;31m \u001b[0mvqe_result\u001b[0m \u001b[0;34m=\u001b[0m \u001b[0mnp\u001b[0m\u001b[0;34m.\u001b[0m\u001b[0mreal\u001b[0m\u001b[0;34m(\u001b[0m\u001b[0mvqe\u001b[0m\u001b[0;34m.\u001b[0m\u001b[0mrun\u001b[0m\u001b[0;34m(\u001b[0m\u001b[0mIBM_qsm_instance\u001b[0m\u001b[0;34m)\u001b[0m\u001b[0;34m[\u001b[0m\u001b[0;34m'eigenvalue'\u001b[0m\u001b[0;34m]\u001b[0m\u001b[0;34m)\u001b[0m\u001b[0;34m\u001b[0m\u001b[0;34m\u001b[0m\u001b[0m\n\u001b[0m\u001b[1;32m     21\u001b[0m \u001b[0mvqe_energies\u001b[0m\u001b[0;34m.\u001b[0m\u001b[0mappend\u001b[0m\u001b[0;34m(\u001b[0m\u001b[0mvqe_result\u001b[0m\u001b[0;34m)\u001b[0m\u001b[0;34m\u001b[0m\u001b[0;34m\u001b[0m\u001b[0m\n\u001b[1;32m     22\u001b[0m \u001b[0mprint\u001b[0m\u001b[0;34m(\u001b[0m\u001b[0;34m\"VQE Results:\"\u001b[0m\u001b[0;34m,\u001b[0m \u001b[0mvqe_energies\u001b[0m\u001b[0;34m)\u001b[0m\u001b[0;34m\u001b[0m\u001b[0;34m\u001b[0m\u001b[0m\n",
      "\u001b[0;32m~/anaconda3/envs/qiskit-env/lib/python3.7/site-packages/qiskit/aqua/algorithms/quantum_algorithm.py\u001b[0m in \u001b[0;36mrun\u001b[0;34m(self, quantum_instance, **kwargs)\u001b[0m\n\u001b[1;32m     68\u001b[0m                 \u001b[0mself\u001b[0m\u001b[0;34m.\u001b[0m\u001b[0mquantum_instance\u001b[0m \u001b[0;34m=\u001b[0m \u001b[0mquantum_instance\u001b[0m\u001b[0;34m\u001b[0m\u001b[0;34m\u001b[0m\u001b[0m\n\u001b[1;32m     69\u001b[0m \u001b[0;34m\u001b[0m\u001b[0m\n\u001b[0;32m---> 70\u001b[0;31m         \u001b[0;32mreturn\u001b[0m \u001b[0mself\u001b[0m\u001b[0;34m.\u001b[0m\u001b[0m_run\u001b[0m\u001b[0;34m(\u001b[0m\u001b[0;34m)\u001b[0m\u001b[0;34m\u001b[0m\u001b[0;34m\u001b[0m\u001b[0m\n\u001b[0m\u001b[1;32m     71\u001b[0m \u001b[0;34m\u001b[0m\u001b[0m\n\u001b[1;32m     72\u001b[0m     \u001b[0;34m@\u001b[0m\u001b[0mabstractmethod\u001b[0m\u001b[0;34m\u001b[0m\u001b[0;34m\u001b[0m\u001b[0m\n",
      "\u001b[0;32m~/anaconda3/envs/qiskit-env/lib/python3.7/site-packages/qiskit/aqua/algorithms/minimum_eigen_solvers/vqe.py\u001b[0m in \u001b[0;36m_run\u001b[0;34m(self)\u001b[0m\n\u001b[1;32m    348\u001b[0m                                      \u001b[0mvar_form\u001b[0m\u001b[0;34m=\u001b[0m\u001b[0mself\u001b[0m\u001b[0;34m.\u001b[0m\u001b[0mvar_form\u001b[0m\u001b[0;34m,\u001b[0m\u001b[0;34m\u001b[0m\u001b[0;34m\u001b[0m\u001b[0m\n\u001b[1;32m    349\u001b[0m                                      \u001b[0mcost_fn\u001b[0m\u001b[0;34m=\u001b[0m\u001b[0mself\u001b[0m\u001b[0;34m.\u001b[0m\u001b[0m_energy_evaluation\u001b[0m\u001b[0;34m,\u001b[0m\u001b[0;34m\u001b[0m\u001b[0;34m\u001b[0m\u001b[0m\n\u001b[0;32m--> 350\u001b[0;31m                                      optimizer=self.optimizer)\n\u001b[0m\u001b[1;32m    351\u001b[0m \u001b[0;34m\u001b[0m\u001b[0m\n\u001b[1;32m    352\u001b[0m         \u001b[0;31m# TODO remove all former dictionary logic\u001b[0m\u001b[0;34m\u001b[0m\u001b[0;34m\u001b[0m\u001b[0;34m\u001b[0m\u001b[0m\n",
      "\u001b[0;32m~/anaconda3/envs/qiskit-env/lib/python3.7/site-packages/qiskit/aqua/algorithms/vq_algorithm.py\u001b[0m in \u001b[0;36mfind_minimum\u001b[0;34m(self, initial_point, var_form, cost_fn, optimizer, gradient_fn)\u001b[0m\n\u001b[1;32m    199\u001b[0m                                                                       \u001b[0mvariable_bounds\u001b[0m\u001b[0;34m=\u001b[0m\u001b[0mbounds\u001b[0m\u001b[0;34m,\u001b[0m\u001b[0;34m\u001b[0m\u001b[0;34m\u001b[0m\u001b[0m\n\u001b[1;32m    200\u001b[0m                                                                       \u001b[0minitial_point\u001b[0m\u001b[0;34m=\u001b[0m\u001b[0minitial_point\u001b[0m\u001b[0;34m,\u001b[0m\u001b[0;34m\u001b[0m\u001b[0;34m\u001b[0m\u001b[0m\n\u001b[0;32m--> 201\u001b[0;31m                                                                       gradient_function=gradient_fn)\n\u001b[0m\u001b[1;32m    202\u001b[0m         \u001b[0meval_time\u001b[0m \u001b[0;34m=\u001b[0m \u001b[0mtime\u001b[0m\u001b[0;34m.\u001b[0m\u001b[0mtime\u001b[0m\u001b[0;34m(\u001b[0m\u001b[0;34m)\u001b[0m \u001b[0;34m-\u001b[0m \u001b[0mstart\u001b[0m\u001b[0;34m\u001b[0m\u001b[0;34m\u001b[0m\u001b[0m\n\u001b[1;32m    203\u001b[0m \u001b[0;34m\u001b[0m\u001b[0m\n",
      "\u001b[0;32m~/anaconda3/envs/qiskit-env/lib/python3.7/site-packages/qiskit/aqua/components/optimizers/spsa.py\u001b[0m in \u001b[0;36moptimize\u001b[0;34m(self, num_vars, objective_function, gradient_function, variable_bounds, initial_point)\u001b[0m\n\u001b[1;32m    115\u001b[0m             \u001b[0;31m# at least one calibration, at most 25 calibrations\u001b[0m\u001b[0;34m\u001b[0m\u001b[0;34m\u001b[0m\u001b[0;34m\u001b[0m\u001b[0m\n\u001b[1;32m    116\u001b[0m             \u001b[0mnum_steps_calibration\u001b[0m \u001b[0;34m=\u001b[0m \u001b[0mmin\u001b[0m\u001b[0;34m(\u001b[0m\u001b[0;36m25\u001b[0m\u001b[0;34m,\u001b[0m \u001b[0mmax\u001b[0m\u001b[0;34m(\u001b[0m\u001b[0;36m1\u001b[0m\u001b[0;34m,\u001b[0m \u001b[0mself\u001b[0m\u001b[0;34m.\u001b[0m\u001b[0m_max_trials\u001b[0m \u001b[0;34m//\u001b[0m \u001b[0;36m5\u001b[0m\u001b[0;34m)\u001b[0m\u001b[0;34m)\u001b[0m\u001b[0;34m\u001b[0m\u001b[0;34m\u001b[0m\u001b[0m\n\u001b[0;32m--> 117\u001b[0;31m             \u001b[0mself\u001b[0m\u001b[0;34m.\u001b[0m\u001b[0m_calibration\u001b[0m\u001b[0;34m(\u001b[0m\u001b[0mobjective_function\u001b[0m\u001b[0;34m,\u001b[0m \u001b[0minitial_point\u001b[0m\u001b[0;34m,\u001b[0m \u001b[0mnum_steps_calibration\u001b[0m\u001b[0;34m)\u001b[0m\u001b[0;34m\u001b[0m\u001b[0;34m\u001b[0m\u001b[0m\n\u001b[0m\u001b[1;32m    118\u001b[0m         \u001b[0;32melse\u001b[0m\u001b[0;34m:\u001b[0m\u001b[0;34m\u001b[0m\u001b[0;34m\u001b[0m\u001b[0m\n\u001b[1;32m    119\u001b[0m             \u001b[0mlogger\u001b[0m\u001b[0;34m.\u001b[0m\u001b[0mdebug\u001b[0m\u001b[0;34m(\u001b[0m\u001b[0;34m'Skipping calibration, parameters used as provided.'\u001b[0m\u001b[0;34m)\u001b[0m\u001b[0;34m\u001b[0m\u001b[0;34m\u001b[0m\u001b[0m\n",
      "\u001b[0;32m~/anaconda3/envs/qiskit-env/lib/python3.7/site-packages/qiskit/aqua/components/optimizers/spsa.py\u001b[0m in \u001b[0;36m_calibration\u001b[0;34m(self, obj_fun, initial_theta, stat)\u001b[0m\n\u001b[1;32m    228\u001b[0m                 \u001b[0mobj_plus\u001b[0m\u001b[0;34m,\u001b[0m \u001b[0mobj_minus\u001b[0m \u001b[0;34m=\u001b[0m \u001b[0mobj_fun\u001b[0m\u001b[0;34m(\u001b[0m\u001b[0mnp\u001b[0m\u001b[0;34m.\u001b[0m\u001b[0mconcatenate\u001b[0m\u001b[0;34m(\u001b[0m\u001b[0;34m(\u001b[0m\u001b[0mtheta_plus\u001b[0m\u001b[0;34m,\u001b[0m \u001b[0mtheta_minus\u001b[0m\u001b[0;34m)\u001b[0m\u001b[0;34m)\u001b[0m\u001b[0;34m)\u001b[0m\u001b[0;34m\u001b[0m\u001b[0;34m\u001b[0m\u001b[0m\n\u001b[1;32m    229\u001b[0m             \u001b[0;32melse\u001b[0m\u001b[0;34m:\u001b[0m\u001b[0;34m\u001b[0m\u001b[0;34m\u001b[0m\u001b[0m\n\u001b[0;32m--> 230\u001b[0;31m                 \u001b[0mobj_plus\u001b[0m \u001b[0;34m=\u001b[0m \u001b[0mobj_fun\u001b[0m\u001b[0;34m(\u001b[0m\u001b[0mtheta_plus\u001b[0m\u001b[0;34m)\u001b[0m\u001b[0;34m\u001b[0m\u001b[0;34m\u001b[0m\u001b[0m\n\u001b[0m\u001b[1;32m    231\u001b[0m                 \u001b[0mobj_minus\u001b[0m \u001b[0;34m=\u001b[0m \u001b[0mobj_fun\u001b[0m\u001b[0;34m(\u001b[0m\u001b[0mtheta_minus\u001b[0m\u001b[0;34m)\u001b[0m\u001b[0;34m\u001b[0m\u001b[0;34m\u001b[0m\u001b[0m\n\u001b[1;32m    232\u001b[0m             \u001b[0mdelta_obj\u001b[0m \u001b[0;34m+=\u001b[0m \u001b[0mnp\u001b[0m\u001b[0;34m.\u001b[0m\u001b[0mabsolute\u001b[0m\u001b[0;34m(\u001b[0m\u001b[0mobj_plus\u001b[0m \u001b[0;34m-\u001b[0m \u001b[0mobj_minus\u001b[0m\u001b[0;34m)\u001b[0m \u001b[0;34m/\u001b[0m \u001b[0mstat\u001b[0m\u001b[0;34m\u001b[0m\u001b[0;34m\u001b[0m\u001b[0m\n",
      "\u001b[0;32m~/anaconda3/envs/qiskit-env/lib/python3.7/site-packages/qiskit/aqua/algorithms/minimum_eigen_solvers/vqe.py\u001b[0m in \u001b[0;36m_energy_evaluation\u001b[0;34m(self, parameters)\u001b[0m\n\u001b[1;32m    436\u001b[0m \u001b[0;34m\u001b[0m\u001b[0m\n\u001b[1;32m    437\u001b[0m         \u001b[0mstart_time\u001b[0m \u001b[0;34m=\u001b[0m \u001b[0mtime\u001b[0m\u001b[0;34m(\u001b[0m\u001b[0;34m)\u001b[0m\u001b[0;34m\u001b[0m\u001b[0;34m\u001b[0m\u001b[0m\n\u001b[0;32m--> 438\u001b[0;31m         \u001b[0msampled_expect_op\u001b[0m \u001b[0;34m=\u001b[0m \u001b[0mself\u001b[0m\u001b[0;34m.\u001b[0m\u001b[0m_circuit_sampler\u001b[0m\u001b[0;34m.\u001b[0m\u001b[0mconvert\u001b[0m\u001b[0;34m(\u001b[0m\u001b[0mself\u001b[0m\u001b[0;34m.\u001b[0m\u001b[0m_expect_op\u001b[0m\u001b[0;34m,\u001b[0m \u001b[0mparams\u001b[0m\u001b[0;34m=\u001b[0m\u001b[0mparam_bindings\u001b[0m\u001b[0;34m)\u001b[0m\u001b[0;34m\u001b[0m\u001b[0;34m\u001b[0m\u001b[0m\n\u001b[0m\u001b[1;32m    439\u001b[0m         \u001b[0mmeans\u001b[0m \u001b[0;34m=\u001b[0m \u001b[0mnp\u001b[0m\u001b[0;34m.\u001b[0m\u001b[0mreal\u001b[0m\u001b[0;34m(\u001b[0m\u001b[0msampled_expect_op\u001b[0m\u001b[0;34m.\u001b[0m\u001b[0meval\u001b[0m\u001b[0;34m(\u001b[0m\u001b[0;34m)\u001b[0m\u001b[0;34m)\u001b[0m\u001b[0;34m\u001b[0m\u001b[0;34m\u001b[0m\u001b[0m\n\u001b[1;32m    440\u001b[0m \u001b[0;34m\u001b[0m\u001b[0m\n",
      "\u001b[0;32m~/anaconda3/envs/qiskit-env/lib/python3.7/site-packages/qiskit/aqua/operators/converters/circuit_sampler.py\u001b[0m in \u001b[0;36mconvert\u001b[0;34m(self, operator, params)\u001b[0m\n\u001b[1;32m    192\u001b[0m         \u001b[0mcircs\u001b[0m \u001b[0;34m=\u001b[0m \u001b[0mlist\u001b[0m\u001b[0;34m(\u001b[0m\u001b[0mself\u001b[0m\u001b[0;34m.\u001b[0m\u001b[0m_circuit_ops_cache\u001b[0m\u001b[0;34m.\u001b[0m\u001b[0mvalues\u001b[0m\u001b[0;34m(\u001b[0m\u001b[0;34m)\u001b[0m\u001b[0;34m)\u001b[0m \u001b[0;32mif\u001b[0m \u001b[0;32mnot\u001b[0m \u001b[0mself\u001b[0m\u001b[0;34m.\u001b[0m\u001b[0m_transpiled_circ_cache\u001b[0m \u001b[0;32melse\u001b[0m \u001b[0;32mNone\u001b[0m\u001b[0;34m\u001b[0m\u001b[0;34m\u001b[0m\u001b[0m\n\u001b[1;32m    193\u001b[0m         sampled_statefn_dicts = self.sample_circuits(circuit_sfns=circs,\n\u001b[0;32m--> 194\u001b[0;31m                                                      param_bindings=param_bindings)\n\u001b[0m\u001b[1;32m    195\u001b[0m \u001b[0;34m\u001b[0m\u001b[0m\n\u001b[1;32m    196\u001b[0m         \u001b[0;32mdef\u001b[0m \u001b[0mreplace_circuits_with_dicts\u001b[0m\u001b[0;34m(\u001b[0m\u001b[0moperator\u001b[0m\u001b[0;34m,\u001b[0m \u001b[0mparam_index\u001b[0m\u001b[0;34m=\u001b[0m\u001b[0;36m0\u001b[0m\u001b[0;34m)\u001b[0m\u001b[0;34m:\u001b[0m\u001b[0;34m\u001b[0m\u001b[0;34m\u001b[0m\u001b[0m\n",
      "\u001b[0;32m~/anaconda3/envs/qiskit-env/lib/python3.7/site-packages/qiskit/aqua/operators/converters/circuit_sampler.py\u001b[0m in \u001b[0;36msample_circuits\u001b[0;34m(self, circuit_sfns, param_bindings)\u001b[0m\n\u001b[1;32m    270\u001b[0m \u001b[0;34m\u001b[0m\u001b[0m\n\u001b[1;32m    271\u001b[0m         results = self.quantum_instance.execute(ready_circs,\n\u001b[0;32m--> 272\u001b[0;31m                                                 had_transpiled=self._transpile_before_bind)\n\u001b[0m\u001b[1;32m    273\u001b[0m \u001b[0;34m\u001b[0m\u001b[0m\n\u001b[1;32m    274\u001b[0m         \u001b[0;31m# Wipe parameterizations, if any\u001b[0m\u001b[0;34m\u001b[0m\u001b[0;34m\u001b[0m\u001b[0;34m\u001b[0m\u001b[0m\n",
      "\u001b[0;32m~/anaconda3/envs/qiskit-env/lib/python3.7/site-packages/qiskit/aqua/quantum_instance.py\u001b[0m in \u001b[0;36mexecute\u001b[0;34m(self, circuits, had_transpiled)\u001b[0m\n\u001b[1;32m    347\u001b[0m                 result = run_qobj(qobj, self._backend, self._qjob_config,\n\u001b[1;32m    348\u001b[0m                                   \u001b[0mself\u001b[0m\u001b[0;34m.\u001b[0m\u001b[0m_backend_options\u001b[0m\u001b[0;34m,\u001b[0m \u001b[0mself\u001b[0m\u001b[0;34m.\u001b[0m\u001b[0m_noise_config\u001b[0m\u001b[0;34m,\u001b[0m\u001b[0;34m\u001b[0m\u001b[0;34m\u001b[0m\u001b[0m\n\u001b[0;32m--> 349\u001b[0;31m                                   self._skip_qobj_validation, self._job_callback)\n\u001b[0m\u001b[1;32m    350\u001b[0m \u001b[0;34m\u001b[0m\u001b[0m\n\u001b[1;32m    351\u001b[0m             \u001b[0;32mif\u001b[0m \u001b[0mmeas_error_mitigation_fitter\u001b[0m \u001b[0;32mis\u001b[0m \u001b[0;32mnot\u001b[0m \u001b[0;32mNone\u001b[0m\u001b[0;34m:\u001b[0m\u001b[0;34m\u001b[0m\u001b[0;34m\u001b[0m\u001b[0m\n",
      "\u001b[0;32m~/anaconda3/envs/qiskit-env/lib/python3.7/site-packages/qiskit/aqua/utils/run_circuits.py\u001b[0m in \u001b[0;36mrun_qobj\u001b[0;34m(qobj, backend, qjob_config, backend_options, noise_config, skip_qobj_validation, job_callback)\u001b[0m\n\u001b[1;32m    300\u001b[0m         \u001b[0mresults\u001b[0m \u001b[0;34m=\u001b[0m \u001b[0;34m[\u001b[0m\u001b[0;34m]\u001b[0m\u001b[0;34m\u001b[0m\u001b[0;34m\u001b[0m\u001b[0m\n\u001b[1;32m    301\u001b[0m         \u001b[0;32mfor\u001b[0m \u001b[0mjob\u001b[0m \u001b[0;32min\u001b[0m \u001b[0mjobs\u001b[0m\u001b[0;34m:\u001b[0m\u001b[0;34m\u001b[0m\u001b[0;34m\u001b[0m\u001b[0m\n\u001b[0;32m--> 302\u001b[0;31m             \u001b[0mresults\u001b[0m\u001b[0;34m.\u001b[0m\u001b[0mappend\u001b[0m\u001b[0;34m(\u001b[0m\u001b[0mjob\u001b[0m\u001b[0;34m.\u001b[0m\u001b[0mresult\u001b[0m\u001b[0;34m(\u001b[0m\u001b[0;34m**\u001b[0m\u001b[0mqjob_config\u001b[0m\u001b[0;34m)\u001b[0m\u001b[0;34m)\u001b[0m\u001b[0;34m\u001b[0m\u001b[0;34m\u001b[0m\u001b[0m\n\u001b[0m\u001b[1;32m    303\u001b[0m \u001b[0;34m\u001b[0m\u001b[0m\n\u001b[1;32m    304\u001b[0m     \u001b[0mresult\u001b[0m \u001b[0;34m=\u001b[0m \u001b[0m_combine_result_objects\u001b[0m\u001b[0;34m(\u001b[0m\u001b[0mresults\u001b[0m\u001b[0;34m)\u001b[0m \u001b[0;32mif\u001b[0m \u001b[0mresults\u001b[0m \u001b[0;32melse\u001b[0m \u001b[0;32mNone\u001b[0m\u001b[0;34m\u001b[0m\u001b[0;34m\u001b[0m\u001b[0m\n",
      "\u001b[0;32m~/anaconda3/envs/qiskit-env/lib/python3.7/site-packages/qiskit/providers/ibmq/job/ibmqjob.py\u001b[0m in \u001b[0;36mresult\u001b[0;34m(self, timeout, wait, partial, refresh)\u001b[0m\n\u001b[1;32m    264\u001b[0m         \u001b[0;31m# pylint: disable=arguments-differ\u001b[0m\u001b[0;34m\u001b[0m\u001b[0;34m\u001b[0m\u001b[0;34m\u001b[0m\u001b[0m\n\u001b[1;32m    265\u001b[0m         if not self._wait_for_completion(timeout=timeout, wait=wait,\n\u001b[0;32m--> 266\u001b[0;31m                                          required_status=(JobStatus.DONE,)):\n\u001b[0m\u001b[1;32m    267\u001b[0m             \u001b[0;32mif\u001b[0m \u001b[0mself\u001b[0m\u001b[0;34m.\u001b[0m\u001b[0m_status\u001b[0m \u001b[0;32mis\u001b[0m \u001b[0mJobStatus\u001b[0m\u001b[0;34m.\u001b[0m\u001b[0mCANCELLED\u001b[0m\u001b[0;34m:\u001b[0m\u001b[0;34m\u001b[0m\u001b[0;34m\u001b[0m\u001b[0m\n\u001b[1;32m    268\u001b[0m                 raise IBMQJobInvalidStateError('Unable to retrieve result for job {}. '\n",
      "\u001b[0;32m~/anaconda3/envs/qiskit-env/lib/python3.7/site-packages/qiskit/providers/ibmq/job/ibmqjob.py\u001b[0m in \u001b[0;36m_wait_for_completion\u001b[0;34m(self, timeout, wait, required_status, status_queue)\u001b[0m\n\u001b[1;32m    815\u001b[0m         \u001b[0;32mtry\u001b[0m\u001b[0;34m:\u001b[0m\u001b[0;34m\u001b[0m\u001b[0;34m\u001b[0m\u001b[0m\n\u001b[1;32m    816\u001b[0m             status_response = self._api.job_final_status(\n\u001b[0;32m--> 817\u001b[0;31m                 self.job_id(), timeout=timeout, wait=wait, status_queue=status_queue)\n\u001b[0m\u001b[1;32m    818\u001b[0m         \u001b[0;32mexcept\u001b[0m \u001b[0mUserTimeoutExceededError\u001b[0m\u001b[0;34m:\u001b[0m\u001b[0;34m\u001b[0m\u001b[0;34m\u001b[0m\u001b[0m\n\u001b[1;32m    819\u001b[0m             raise IBMQJobTimeoutError(\n",
      "\u001b[0;32m~/anaconda3/envs/qiskit-env/lib/python3.7/site-packages/qiskit/providers/ibmq/api/clients/account.py\u001b[0m in \u001b[0;36mjob_final_status\u001b[0;34m(self, job_id, timeout, wait, status_queue)\u001b[0m\n\u001b[1;32m    331\u001b[0m             \u001b[0;32mtry\u001b[0m\u001b[0;34m:\u001b[0m\u001b[0;34m\u001b[0m\u001b[0;34m\u001b[0m\u001b[0m\n\u001b[1;32m    332\u001b[0m                 status_response = self._job_final_status_websocket(\n\u001b[0;32m--> 333\u001b[0;31m                     job_id=job_id, timeout=timeout, status_queue=status_queue)\n\u001b[0m\u001b[1;32m    334\u001b[0m             \u001b[0;32mexcept\u001b[0m \u001b[0mWebsocketTimeoutError\u001b[0m \u001b[0;32mas\u001b[0m \u001b[0mex\u001b[0m\u001b[0;34m:\u001b[0m\u001b[0;34m\u001b[0m\u001b[0;34m\u001b[0m\u001b[0m\n\u001b[1;32m    335\u001b[0m                 logger.info('Timeout checking job status using websocket, '\n",
      "\u001b[0;32m~/anaconda3/envs/qiskit-env/lib/python3.7/site-packages/qiskit/providers/ibmq/api/clients/account.py\u001b[0m in \u001b[0;36m_job_final_status_websocket\u001b[0;34m(self, job_id, timeout, status_queue)\u001b[0m\n\u001b[1;32m    383\u001b[0m                 \u001b[0;32mraise\u001b[0m\u001b[0;34m\u001b[0m\u001b[0;34m\u001b[0m\u001b[0m\n\u001b[1;32m    384\u001b[0m         return loop.run_until_complete(\n\u001b[0;32m--> 385\u001b[0;31m             self.client_ws.get_job_status(job_id, timeout=timeout, status_queue=status_queue))\n\u001b[0m\u001b[1;32m    386\u001b[0m \u001b[0;34m\u001b[0m\u001b[0m\n\u001b[1;32m    387\u001b[0m     def _job_final_status_polling(\n",
      "\u001b[0;32m~/anaconda3/envs/qiskit-env/lib/python3.7/site-packages/nest_asyncio.py\u001b[0m in \u001b[0;36mrun_until_complete\u001b[0;34m(self, future)\u001b[0m\n\u001b[1;32m     58\u001b[0m                 \u001b[0mf\u001b[0m\u001b[0;34m.\u001b[0m\u001b[0m_log_destroy_pending\u001b[0m \u001b[0;34m=\u001b[0m \u001b[0;32mFalse\u001b[0m\u001b[0;34m\u001b[0m\u001b[0;34m\u001b[0m\u001b[0m\n\u001b[1;32m     59\u001b[0m             \u001b[0;32mwhile\u001b[0m \u001b[0;32mnot\u001b[0m \u001b[0mf\u001b[0m\u001b[0;34m.\u001b[0m\u001b[0mdone\u001b[0m\u001b[0;34m(\u001b[0m\u001b[0;34m)\u001b[0m\u001b[0;34m:\u001b[0m\u001b[0;34m\u001b[0m\u001b[0;34m\u001b[0m\u001b[0m\n\u001b[0;32m---> 60\u001b[0;31m                 \u001b[0mrun_once\u001b[0m\u001b[0;34m(\u001b[0m\u001b[0mself\u001b[0m\u001b[0;34m)\u001b[0m\u001b[0;34m\u001b[0m\u001b[0;34m\u001b[0m\u001b[0m\n\u001b[0m\u001b[1;32m     61\u001b[0m             \u001b[0;32mreturn\u001b[0m \u001b[0mf\u001b[0m\u001b[0;34m.\u001b[0m\u001b[0mresult\u001b[0m\u001b[0;34m(\u001b[0m\u001b[0;34m)\u001b[0m\u001b[0;34m\u001b[0m\u001b[0;34m\u001b[0m\u001b[0m\n\u001b[1;32m     62\u001b[0m         \u001b[0;32melse\u001b[0m\u001b[0;34m:\u001b[0m\u001b[0;34m\u001b[0m\u001b[0;34m\u001b[0m\u001b[0m\n",
      "\u001b[0;32m~/anaconda3/envs/qiskit-env/lib/python3.7/site-packages/nest_asyncio.py\u001b[0m in \u001b[0;36mrun_once\u001b[0;34m(self)\u001b[0m\n\u001b[1;32m     87\u001b[0m             \u001b[0mtimeout\u001b[0m \u001b[0;34m=\u001b[0m \u001b[0mmax\u001b[0m\u001b[0;34m(\u001b[0m\u001b[0;36m0\u001b[0m\u001b[0;34m,\u001b[0m \u001b[0mwhen\u001b[0m \u001b[0;34m-\u001b[0m \u001b[0mself\u001b[0m\u001b[0;34m.\u001b[0m\u001b[0mtime\u001b[0m\u001b[0;34m(\u001b[0m\u001b[0;34m)\u001b[0m\u001b[0;34m)\u001b[0m\u001b[0;34m\u001b[0m\u001b[0;34m\u001b[0m\u001b[0m\n\u001b[1;32m     88\u001b[0m \u001b[0;34m\u001b[0m\u001b[0m\n\u001b[0;32m---> 89\u001b[0;31m         \u001b[0mevent_list\u001b[0m \u001b[0;34m=\u001b[0m \u001b[0mself\u001b[0m\u001b[0;34m.\u001b[0m\u001b[0m_selector\u001b[0m\u001b[0;34m.\u001b[0m\u001b[0mselect\u001b[0m\u001b[0;34m(\u001b[0m\u001b[0mtimeout\u001b[0m\u001b[0;34m)\u001b[0m\u001b[0;34m\u001b[0m\u001b[0;34m\u001b[0m\u001b[0m\n\u001b[0m\u001b[1;32m     90\u001b[0m         \u001b[0mself\u001b[0m\u001b[0;34m.\u001b[0m\u001b[0m_process_events\u001b[0m\u001b[0;34m(\u001b[0m\u001b[0mevent_list\u001b[0m\u001b[0;34m)\u001b[0m\u001b[0;34m\u001b[0m\u001b[0;34m\u001b[0m\u001b[0m\n\u001b[1;32m     91\u001b[0m \u001b[0;34m\u001b[0m\u001b[0m\n",
      "\u001b[0;32m~/anaconda3/envs/qiskit-env/lib/python3.7/selectors.py\u001b[0m in \u001b[0;36mselect\u001b[0;34m(self, timeout)\u001b[0m\n\u001b[1;32m    466\u001b[0m             \u001b[0mready\u001b[0m \u001b[0;34m=\u001b[0m \u001b[0;34m[\u001b[0m\u001b[0;34m]\u001b[0m\u001b[0;34m\u001b[0m\u001b[0;34m\u001b[0m\u001b[0m\n\u001b[1;32m    467\u001b[0m             \u001b[0;32mtry\u001b[0m\u001b[0;34m:\u001b[0m\u001b[0;34m\u001b[0m\u001b[0;34m\u001b[0m\u001b[0m\n\u001b[0;32m--> 468\u001b[0;31m                 \u001b[0mfd_event_list\u001b[0m \u001b[0;34m=\u001b[0m \u001b[0mself\u001b[0m\u001b[0;34m.\u001b[0m\u001b[0m_selector\u001b[0m\u001b[0;34m.\u001b[0m\u001b[0mpoll\u001b[0m\u001b[0;34m(\u001b[0m\u001b[0mtimeout\u001b[0m\u001b[0;34m,\u001b[0m \u001b[0mmax_ev\u001b[0m\u001b[0;34m)\u001b[0m\u001b[0;34m\u001b[0m\u001b[0;34m\u001b[0m\u001b[0m\n\u001b[0m\u001b[1;32m    469\u001b[0m             \u001b[0;32mexcept\u001b[0m \u001b[0mInterruptedError\u001b[0m\u001b[0;34m:\u001b[0m\u001b[0;34m\u001b[0m\u001b[0;34m\u001b[0m\u001b[0m\n\u001b[1;32m    470\u001b[0m                 \u001b[0;32mreturn\u001b[0m \u001b[0mready\u001b[0m\u001b[0;34m\u001b[0m\u001b[0;34m\u001b[0m\u001b[0m\n",
      "\u001b[0;31mKeyboardInterrupt\u001b[0m: "
     ]
    }
   ],
   "source": [
    "#IBM QASM,noise 1 rep, 5000 trials\n",
    "C_map=backend_melb.configuration().coupling_map\n",
    "noise_model=NoiseModel.from_backend(backend_melb.properties())\n",
    "IBM_qsm_instance=QuantumInstance(backend_qsm_ibm,shots=sh,\n",
    "                                  coupling_map=C_map,\n",
    "                                  skip_qobj_validation=False,\n",
    "                                  measurement_error_mitigation_cls=CompleteMeasFitter,\n",
    "                                  cals_matrix_refresh_period=30\n",
    "                                  )\n",
    "now = datetime.now()\n",
    "print (\"Current date and time : \")\n",
    "print (now.strftime(\"%Y-%m-%d %H:%M:%S\"))\n",
    "\n",
    "vqe_energies=[]\n",
    "vqe = VQE(PM1,vf , optimizer)\n",
    "\n",
    "optimizer = SPSA(max_trials=5000)\n",
    "vf=Var_form_set(q,1,'linear',0)\n",
    "vqe = VQE(PM1,vf , optimizer)\n",
    "vqe_result = np.real(vqe.run(IBM_qsm_instance)['eigenvalue'])\n",
    "vqe_energies.append(vqe_result)\n",
    "print(\"VQE Results:\", vqe_energies)\n",
    "exact_solution = NumPyEigensolver(PM1,k=1).run()\n",
    "print(\"Exact Result:\", np.real(exact_solution.eigenvalues))\n",
    "\n",
    "now = datetime.now()\n",
    "print (\"Current date and time : \")\n",
    "print (now.strftime(\"%Y-%m-%d %H:%M:%S\"))\n"
   ]
  },
  {
   "cell_type": "code",
   "execution_count": 83,
   "metadata": {},
   "outputs": [
    {
     "name": "stdout",
     "output_type": "stream",
     "text": [
      "     ┌──────────┐     ┌──────────┐                        ┌───────────┐»\n",
      "q_0: ┤ RY(θ[0]) ├──■──┤ RY(θ[6]) ├─────────────────■──────┤ RY(θ[12]) ├»\n",
      "     ├──────────┤┌─┴─┐└──────────┘┌──────────┐   ┌─┴─┐    └───────────┘»\n",
      "q_1: ┤ RY(θ[1]) ├┤ X ├─────■──────┤ RY(θ[7]) ├───┤ X ├──────────■──────»\n",
      "     ├──────────┤└───┘   ┌─┴─┐    └──────────┘┌──┴───┴───┐    ┌─┴─┐    »\n",
      "q_2: ┤ RY(θ[2]) ├────────┤ X ├─────────■──────┤ RY(θ[8]) ├────┤ X ├────»\n",
      "     ├──────────┤        └───┘       ┌─┴─┐    └──────────┘ ┌──┴───┴───┐»\n",
      "q_3: ┤ RY(θ[3]) ├────────────────────┤ X ├─────────■───────┤ RY(θ[9]) ├»\n",
      "     ├──────────┤                    └───┘       ┌─┴─┐     └──────────┘»\n",
      "q_4: ┤ RY(θ[4]) ├────────────────────────────────┤ X ├──────────■──────»\n",
      "     ├──────────┤                                └───┘        ┌─┴─┐    »\n",
      "q_5: ┤ RY(θ[5]) ├─────────────────────────────────────────────┤ X ├────»\n",
      "     └──────────┘                                             └───┘    »\n",
      "«                               ┌───────────┐                          »\n",
      "«q_0: ───────────────────■──────┤ RY(θ[18]) ├──────────────────────────»\n",
      "«     ┌───────────┐    ┌─┴─┐    └───────────┘┌───────────┐             »\n",
      "«q_1: ┤ RY(θ[13]) ├────┤ X ├──────────■──────┤ RY(θ[19]) ├─────────────»\n",
      "«     └───────────┘┌───┴───┴───┐    ┌─┴─┐    └───────────┘┌───────────┐»\n",
      "«q_2: ──────■──────┤ RY(θ[14]) ├────┤ X ├──────────■──────┤ RY(θ[20]) ├»\n",
      "«         ┌─┴─┐    └───────────┘┌───┴───┴───┐    ┌─┴─┐    └───────────┘»\n",
      "«q_3: ────┤ X ├──────────■──────┤ RY(θ[15]) ├────┤ X ├──────────■──────»\n",
      "«     ┌───┴───┴───┐    ┌─┴─┐    └───────────┘┌───┴───┴───┐    ┌─┴─┐    »\n",
      "«q_4: ┤ RY(θ[10]) ├────┤ X ├──────────■──────┤ RY(θ[16]) ├────┤ X ├────»\n",
      "«     ├───────────┤    └───┘        ┌─┴─┐    ├───────────┤    └───┘    »\n",
      "«q_5: ┤ RY(θ[11]) ├─────────────────┤ X ├────┤ RY(θ[17]) ├─────────────»\n",
      "«     └───────────┘                 └───┘    └───────────┘             »\n",
      "«                               \n",
      "«q_0: ──────────────────────────\n",
      "«                               \n",
      "«q_1: ──────────────────────────\n",
      "«                               \n",
      "«q_2: ──────────────────────────\n",
      "«     ┌───────────┐             \n",
      "«q_3: ┤ RY(θ[21]) ├─────────────\n",
      "«     └───────────┘┌───────────┐\n",
      "«q_4: ──────■──────┤ RY(θ[22]) ├\n",
      "«         ┌─┴─┐    ├───────────┤\n",
      "«q_5: ────┤ X ├────┤ RY(θ[23]) ├\n",
      "«         └───┘    └───────────┘\n"
     ]
    },
    {
     "data": {
      "text/html": [
       "<pre style=\"word-wrap: normal;white-space: pre;background: #fff0;line-height: 1.1;font-family: &quot;Courier New&quot;,Courier,monospace\">     ┌─────────────┐     ┌────────────┐                              »\n",
       "q_0: ┤ RY(-1.3197) ├──■──┤ RY(4.4435) ├──────────────────────■───────»\n",
       "     ├─────────────┤┌─┴─┐└────────────┘┌─────────────┐     ┌─┴─┐     »\n",
       "q_1: ┤ RY(-4.1303) ├┤ X ├──────■───────┤ RY(-1.4091) ├─────┤ X ├─────»\n",
       "     ├─────────────┤└───┘    ┌─┴─┐     └─────────────┘┌────┴───┴────┐»\n",
       "q_2: ┤ RY(-3.8147) ├─────────┤ X ├────────────■───────┤ RY(-2.2838) ├»\n",
       "     └┬────────────┤         └───┘          ┌─┴─┐     └─────────────┘»\n",
       "q_3: ─┤ RY(2.7253) ├────────────────────────┤ X ├────────────■───────»\n",
       "      ├────────────┤                        └───┘          ┌─┴─┐     »\n",
       "q_4: ─┤ RY(1.2693) ├───────────────────────────────────────┤ X ├─────»\n",
       "      ├────────────┤                                       └───┘     »\n",
       "q_5: ─┤ RY(5.4667) ├─────────────────────────────────────────────────»\n",
       "      └────────────┘                                                 »\n",
       "«     ┌─────────────┐                              ┌─────────────┐»\n",
       "«q_0: ┤ RY(0.86052) ├──────────────────────■───────┤ RY(-3.4147) ├»\n",
       "«     └─────────────┘ ┌─────────────┐    ┌─┴─┐     └─────────────┘»\n",
       "«q_1: ───────■────────┤ RY(-4.0791) ├────┤ X ├────────────■───────»\n",
       "«          ┌─┴─┐      └─────────────┘┌───┴───┴────┐     ┌─┴─┐     »\n",
       "«q_2: ─────┤ X ├─────────────■───────┤ RY(3.4058) ├─────┤ X ├─────»\n",
       "«     ┌────┴───┴─────┐     ┌─┴─┐     └────────────┘┌────┴───┴────┐»\n",
       "«q_3: ┤ RY(-0.95898) ├─────┤ X ├───────────■───────┤ RY(-1.1012) ├»\n",
       "«     └──────────────┘┌────┴───┴────┐    ┌─┴─┐     └─────────────┘»\n",
       "«q_4: ───────■────────┤ RY(-5.2114) ├────┤ X ├────────────■───────»\n",
       "«          ┌─┴─┐      ├─────────────┤    └───┘          ┌─┴─┐     »\n",
       "«q_5: ─────┤ X ├──────┤ RY(-1.9607) ├───────────────────┤ X ├─────»\n",
       "«          └───┘      └─────────────┘                   └───┘     »\n",
       "«                                                                  \n",
       "«q_0: ─────────────────────────────────────────────────────────────\n",
       "«     ┌─────────────┐                                              \n",
       "«q_1: ┤ RY(-1.1275) ├──────────────────────────────────────────────\n",
       "«     └─────────────┘┌─────────────┐                               \n",
       "«q_2: ───────■───────┤ RY(-2.2697) ├───────────────────────────────\n",
       "«          ┌─┴─┐     └─────────────┘┌─────────────┐                \n",
       "«q_3: ─────┤ X ├────────────■───────┤ RY(-2.0415) ├────────────────\n",
       "«      ┌───┴───┴────┐     ┌─┴─┐     └─────────────┘┌──────────────┐\n",
       "«q_4: ─┤ RY(1.5035) ├─────┤ X ├────────────■───────┤ RY(-0.18788) ├\n",
       "«     ┌┴────────────┤     └───┘          ┌─┴─┐     ├─────────────┬┘\n",
       "«q_5: ┤ RY(0.11094) ├────────────────────┤ X ├─────┤ RY(-3.1789) ├─\n",
       "«     └─────────────┘                    └───┘     └─────────────┘ </pre>"
      ],
      "text/plain": [
       "     ┌─────────────┐     ┌────────────┐                              »\n",
       "q_0: ┤ RY(-1.3197) ├──■──┤ RY(4.4435) ├──────────────────────■───────»\n",
       "     ├─────────────┤┌─┴─┐└────────────┘┌─────────────┐     ┌─┴─┐     »\n",
       "q_1: ┤ RY(-4.1303) ├┤ X ├──────■───────┤ RY(-1.4091) ├─────┤ X ├─────»\n",
       "     ├─────────────┤└───┘    ┌─┴─┐     └─────────────┘┌────┴───┴────┐»\n",
       "q_2: ┤ RY(-3.8147) ├─────────┤ X ├────────────■───────┤ RY(-2.2838) ├»\n",
       "     └┬────────────┤         └───┘          ┌─┴─┐     └─────────────┘»\n",
       "q_3: ─┤ RY(2.7253) ├────────────────────────┤ X ├────────────■───────»\n",
       "      ├────────────┤                        └───┘          ┌─┴─┐     »\n",
       "q_4: ─┤ RY(1.2693) ├───────────────────────────────────────┤ X ├─────»\n",
       "      ├────────────┤                                       └───┘     »\n",
       "q_5: ─┤ RY(5.4667) ├─────────────────────────────────────────────────»\n",
       "      └────────────┘                                                 »\n",
       "«     ┌─────────────┐                              ┌─────────────┐»\n",
       "«q_0: ┤ RY(0.86052) ├──────────────────────■───────┤ RY(-3.4147) ├»\n",
       "«     └─────────────┘ ┌─────────────┐    ┌─┴─┐     └─────────────┘»\n",
       "«q_1: ───────■────────┤ RY(-4.0791) ├────┤ X ├────────────■───────»\n",
       "«          ┌─┴─┐      └─────────────┘┌───┴───┴────┐     ┌─┴─┐     »\n",
       "«q_2: ─────┤ X ├─────────────■───────┤ RY(3.4058) ├─────┤ X ├─────»\n",
       "«     ┌────┴───┴─────┐     ┌─┴─┐     └────────────┘┌────┴───┴────┐»\n",
       "«q_3: ┤ RY(-0.95898) ├─────┤ X ├───────────■───────┤ RY(-1.1012) ├»\n",
       "«     └──────────────┘┌────┴───┴────┐    ┌─┴─┐     └─────────────┘»\n",
       "«q_4: ───────■────────┤ RY(-5.2114) ├────┤ X ├────────────■───────»\n",
       "«          ┌─┴─┐      ├─────────────┤    └───┘          ┌─┴─┐     »\n",
       "«q_5: ─────┤ X ├──────┤ RY(-1.9607) ├───────────────────┤ X ├─────»\n",
       "«          └───┘      └─────────────┘                   └───┘     »\n",
       "«                                                                  \n",
       "«q_0: ─────────────────────────────────────────────────────────────\n",
       "«     ┌─────────────┐                                              \n",
       "«q_1: ┤ RY(-1.1275) ├──────────────────────────────────────────────\n",
       "«     └─────────────┘┌─────────────┐                               \n",
       "«q_2: ───────■───────┤ RY(-2.2697) ├───────────────────────────────\n",
       "«          ┌─┴─┐     └─────────────┘┌─────────────┐                \n",
       "«q_3: ─────┤ X ├────────────■───────┤ RY(-2.0415) ├────────────────\n",
       "«      ┌───┴───┴────┐     ┌─┴─┐     └─────────────┘┌──────────────┐\n",
       "«q_4: ─┤ RY(1.5035) ├─────┤ X ├────────────■───────┤ RY(-0.18788) ├\n",
       "«     ┌┴────────────┤     └───┘          ┌─┴─┐     ├─────────────┬┘\n",
       "«q_5: ┤ RY(0.11094) ├────────────────────┤ X ├─────┤ RY(-3.1789) ├─\n",
       "«     └─────────────┘                    └───┘     └─────────────┘ "
      ]
     },
     "execution_count": 83,
     "metadata": {},
     "output_type": "execute_result"
    }
   ],
   "source": [
    "print(vf)\n",
    "circ=vf.assign_parameters(result_vqe['optimal_point'])\n",
    "circ.draw()"
   ]
  },
  {
   "cell_type": "code",
   "execution_count": 50,
   "metadata": {},
   "outputs": [],
   "source": [
    "job = backend_melb.retrieve_job('5ec6e2c90644600014c83add')\n",
    "vqe_result = np.real(job)"
   ]
  },
  {
   "cell_type": "code",
   "execution_count": 138,
   "metadata": {},
   "outputs": [
    {
     "data": {
      "text/plain": [
       "26.30078125"
      ]
     },
     "execution_count": 138,
     "metadata": {},
     "output_type": "execute_result"
    }
   ],
   "source": [
    "vqe_result"
   ]
  },
  {
   "cell_type": "code",
   "execution_count": null,
   "metadata": {},
   "outputs": [],
   "source": [
    "circ = var_form.construct_circuit(result_vqe['opt_params'])\n",
    "im = circuit_drawer(circ)"
   ]
  },
  {
   "cell_type": "code",
   "execution_count": 123,
   "metadata": {},
   "outputs": [
    {
     "data": {
      "text/html": [
       "<pre style=\"word-wrap: normal;white-space: pre;background: #fff0;line-height: 1.1;font-family: &quot;Courier New&quot;,Courier,monospace\">                                                                        »\n",
       "q213_0: ───────X────────────────────────────────────────────────────────»\n",
       "               │                                                        »\n",
       "q213_1: ────X──┼────────────────────────────────────────────────────────»\n",
       "            │  │                                                        »\n",
       "q213_2: ─X──┼──┼────────────────────────────────────■────────────■──────»\n",
       "         │  │  │                                    │      ┌───┐ │      »\n",
       "q213_3: ─X──┼──┼────────────────────■───────■───────┼──────┤ H ├─┼──────»\n",
       "            │  │              ┌───┐ │       │-pi/2  │      └───┘ │-pi/4 »\n",
       "q213_4: ────X──┼───────■──────┤ H ├─┼───────■───────┼────────────■──────»\n",
       "               │ ┌───┐ │-pi/2 └───┘ │-pi/4          │-pi/8              »\n",
       "q213_5: ───────X─┤ H ├─■────────────■───────────────■───────────────────»\n",
       "                 └───┘                                                  »\n",
       "«                                                                        »\n",
       "«q213_0: ──────────────────────────■─────────────────────■───────────────»\n",
       "«                                  │                     │               »\n",
       "«q213_1: ─■────────────────■───────┼─────────────■───────┼────────■──────»\n",
       "«         │                │       │       ┌───┐ │       │        │-pi/2 »\n",
       "«q213_2: ─┼────────■───────┼───────┼───────┤ H ├─┼───────┼────────■──────»\n",
       "«         │        │-pi/2  │       │       └───┘ │-pi/4  │               »\n",
       "«q213_3: ─┼────────■───────┼───────┼─────────────■───────┼───────────────»\n",
       "«         │                │-pi/8  │                     │-pi/16         »\n",
       "«q213_4: ─┼────────────────■───────┼─────────────────────■───────────────»\n",
       "«         │-pi/16                  │-pi/32                               »\n",
       "«q213_5: ─■────────────────────────■─────────────────────────────────────»\n",
       "«                                                                        »\n",
       "«                                     ┌───┐\n",
       "«q213_0: ─■────────────■───────■──────┤ H ├\n",
       "«         │      ┌───┐ │       │-pi/2 └───┘\n",
       "«q213_1: ─┼──────┤ H ├─┼───────■───────────\n",
       "«         │      └───┘ │-pi/4              \n",
       "«q213_2: ─┼────────────■───────────────────\n",
       "«         │-pi/8                           \n",
       "«q213_3: ─■────────────────────────────────\n",
       "«                                          \n",
       "«q213_4: ──────────────────────────────────\n",
       "«                                          \n",
       "«q213_5: ──────────────────────────────────\n",
       "«                                          </pre>"
      ],
      "text/plain": [
       "                                                                        »\n",
       "q213_0: ───────X────────────────────────────────────────────────────────»\n",
       "               │                                                        »\n",
       "q213_1: ────X──┼────────────────────────────────────────────────────────»\n",
       "            │  │                                                        »\n",
       "q213_2: ─X──┼──┼────────────────────────────────────■────────────■──────»\n",
       "         │  │  │                                    │      ┌───┐ │      »\n",
       "q213_3: ─X──┼──┼────────────────────■───────■───────┼──────┤ H ├─┼──────»\n",
       "            │  │              ┌───┐ │       │-pi/2  │      └───┘ │-pi/4 »\n",
       "q213_4: ────X──┼───────■──────┤ H ├─┼───────■───────┼────────────■──────»\n",
       "               │ ┌───┐ │-pi/2 └───┘ │-pi/4          │-pi/8              »\n",
       "q213_5: ───────X─┤ H ├─■────────────■───────────────■───────────────────»\n",
       "                 └───┘                                                  »\n",
       "«                                                                        »\n",
       "«q213_0: ──────────────────────────■─────────────────────■───────────────»\n",
       "«                                  │                     │               »\n",
       "«q213_1: ─■────────────────■───────┼─────────────■───────┼────────■──────»\n",
       "«         │                │       │       ┌───┐ │       │        │-pi/2 »\n",
       "«q213_2: ─┼────────■───────┼───────┼───────┤ H ├─┼───────┼────────■──────»\n",
       "«         │        │-pi/2  │       │       └───┘ │-pi/4  │               »\n",
       "«q213_3: ─┼────────■───────┼───────┼─────────────■───────┼───────────────»\n",
       "«         │                │-pi/8  │                     │-pi/16         »\n",
       "«q213_4: ─┼────────────────■───────┼─────────────────────■───────────────»\n",
       "«         │-pi/16                  │-pi/32                               »\n",
       "«q213_5: ─■────────────────────────■─────────────────────────────────────»\n",
       "«                                                                        »\n",
       "«                                     ┌───┐\n",
       "«q213_0: ─■────────────■───────■──────┤ H ├\n",
       "«         │      ┌───┐ │       │-pi/2 └───┘\n",
       "«q213_1: ─┼──────┤ H ├─┼───────■───────────\n",
       "«         │      └───┘ │-pi/4              \n",
       "«q213_2: ─┼────────────■───────────────────\n",
       "«         │-pi/8                           \n",
       "«q213_3: ─■────────────────────────────────\n",
       "«                                          \n",
       "«q213_4: ──────────────────────────────────\n",
       "«                                          \n",
       "«q213_5: ──────────────────────────────────\n",
       "«                                          "
      ]
     },
     "execution_count": 123,
     "metadata": {},
     "output_type": "execute_result"
    }
   ],
   "source": [
    "Fou_t=QFT(6,inverse=False,approximation_degree=0).inverse()\n",
    "Fou_t.draw()"
   ]
  },
  {
   "cell_type": "code",
   "execution_count": 133,
   "metadata": {},
   "outputs": [
    {
     "data": {
      "text/plain": [
       "{'translation': 63.5, 'stretch': 0.007874015748031496, 'top_measurement_label': '1000', 'top_measurement_decimal': 0.5, 'eigenvalue': 0.0}"
      ]
     },
     "execution_count": 133,
     "metadata": {},
     "output_type": "execute_result"
    }
   ],
   "source": [
    "qpe=QPE(PM1,iqft=Fou_t,num_ancillae=4,expansion_mode='suzuki',expansion_order=3)\n",
    "qpe_results=qpe.run(backend_stv)\n",
    "qpe_results"
   ]
  },
  {
   "cell_type": "code",
   "execution_count": null,
   "metadata": {},
   "outputs": [],
   "source": []
  }
 ],
 "metadata": {
  "kernelspec": {
   "display_name": "Python 3 (ipykernel)",
   "language": "python",
   "name": "python3"
  },
  "language_info": {
   "codemirror_mode": {
    "name": "ipython",
    "version": 3
   },
   "file_extension": ".py",
   "mimetype": "text/x-python",
   "name": "python",
   "nbconvert_exporter": "python",
   "pygments_lexer": "ipython3",
   "version": "3.10.4"
  }
 },
 "nbformat": 4,
 "nbformat_minor": 2
}
